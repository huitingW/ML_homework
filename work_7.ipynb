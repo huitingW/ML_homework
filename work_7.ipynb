{
 "cells": [
  {
   "cell_type": "code",
   "execution_count": 1,
   "id": "dcb9d99d",
   "metadata": {},
   "outputs": [],
   "source": [
    "##导入包\n",
    "import numpy as np\n",
    "from matplotlib import pyplot as plt"
   ]
  },
  {
   "cell_type": "code",
   "execution_count": 2,
   "id": "4d584ba4",
   "metadata": {},
   "outputs": [],
   "source": [
    "##计算城市之间的距离矩阵\n",
    "def get_distance(citys):\n",
    "    N = len(citys)\n",
    "    distance = np.zeros((N, N))\n",
    "    for i, curr_point in enumerate(citys):\n",
    "        line = []\n",
    "        [line.append(np.linalg.norm(np.array(curr_point)-np.array(other_point))) if i != j else line.append(0.0) for j, other_point in enumerate(citys)]\n",
    "        distance[i] = line\n",
    "    return distance"
   ]
  },
  {
   "cell_type": "code",
   "execution_count": 3,
   "id": "4413a149",
   "metadata": {},
   "outputs": [],
   "source": [
    "##更新距离\n",
    "def calc_distance(path):\n",
    "    dis = 0.0\n",
    "    for i in range(len(path) - 1):\n",
    "        dis += distance[path[i]][path[i+1]]\n",
    "    return dis"
   ]
  },
  {
   "cell_type": "code",
   "execution_count": 4,
   "id": "5f5c1fc7",
   "metadata": {},
   "outputs": [],
   "source": [
    "##利用CHNN动态方程计算输入状态的增量\n",
    "def calc_du(V, distance):\n",
    "    a = np.sum(V, axis=0) - 1  # 按列相加\n",
    "    b = np.sum(V, axis=1) - 1  # 按行相加\n",
    "    t1 = np.zeros((N, N))\n",
    "    t2 = np.zeros((N, N))\n",
    "    for i in range(N):\n",
    "        for j in range(N):\n",
    "            t1[i, j] = a[j]\n",
    "    for i in range(N):\n",
    "        for j in range(N):\n",
    "            t2[j, i] = b[j]\n",
    "    # 将第一列移动到最后一列\n",
    "    c_1 = V[:, 1:N]\n",
    "    c_0 = np.zeros((N, 1))\n",
    "    c_0[:, 0] = V[:, 0]\n",
    "    c = np.concatenate((c_1, c_0), axis=1)\n",
    "    c = np.dot(distance, c)\n",
    "    return -A * (t1 + t2) - D * c"
   ]
  },
  {
   "cell_type": "code",
   "execution_count": 5,
   "id": "13eda1f9",
   "metadata": {},
   "outputs": [],
   "source": [
    "##由一阶欧拉方法更新神经网络下一个时刻的输入状态\n",
    "def calc_U(U, du, step):\n",
    "    return U + du * step\n",
    "\n",
    "##由sigmoid函数更新神经网络下一个时刻的输出状态\n",
    "def calc_V(U, U0):\n",
    "    return 1 / 2 * (1 + np.tanh(U / U0))"
   ]
  },
  {
   "cell_type": "code",
   "execution_count": 6,
   "id": "a38ad197",
   "metadata": {},
   "outputs": [],
   "source": [
    "# 计算能量函数E\n",
    "def calc_energy(V, distance):\n",
    "    t1 = np.sum(np.power(np.sum(V, axis=0) - 1, 2))\n",
    "    t2 = np.sum(np.power(np.sum(V, axis=1) - 1, 2))\n",
    "    idx = [i for i in range(1, N)]\n",
    "    idx = idx + [0]\n",
    "    Vt = V[:, idx]\n",
    "    t3 = distance * Vt\n",
    "    t3 = np.sum(np.sum(np.multiply(V, t3)))\n",
    "    e = 0.5 * (A * (t1 + t2) + D * t3)\n",
    "    return e"
   ]
  },
  {
   "cell_type": "code",
   "execution_count": 7,
   "id": "62502591",
   "metadata": {},
   "outputs": [],
   "source": [
    "# 检查路径的正确性\n",
    "def check_path(V):\n",
    "    newV = np.zeros([N, N])\n",
    "    route = []\n",
    "    for i in range(N):\n",
    "        mm = np.max(V[:, i])\n",
    "        for j in range(N):\n",
    "            if V[j, i] == mm:\n",
    "                newV[j, i] = 1\n",
    "                route += [j]\n",
    "                break\n",
    "    return route, newV"
   ]
  },
  {
   "cell_type": "code",
   "execution_count": 8,
   "id": "f44a3879",
   "metadata": {},
   "outputs": [],
   "source": [
    "##可视化\n",
    "def draw(citys, H_path, energys):\n",
    "    fig = plt.figure()\n",
    "    ax = fig.add_subplot(121)\n",
    "    plt.xlim(0, 7)\n",
    "    plt.ylim(0, 7)\n",
    "    for (from_, to_) in H_path:\n",
    "        p1 = plt.Circle(citys[from_], 0.2, color='lightblue')\n",
    "        p2 = plt.Circle(citys[to_], 0.2, color='lightblue')\n",
    "        ax.add_patch(p1)\n",
    "        ax.add_patch(p2)\n",
    "        ax.plot((citys[from_][0], citys[to_][0]), (citys[from_][1], citys[to_][1]), color='lightblue')\n",
    "        ax.annotate(s=chr(97 + to_), xy=citys[to_], xytext=(-8, -4), textcoords='offset points', fontsize=20)\n",
    "    ax.axis('equal')\n",
    "    ax.grid()\n",
    "    plt.show()"
   ]
  },
  {
   "cell_type": "code",
   "execution_count": 17,
   "id": "a232c255",
   "metadata": {},
   "outputs": [
    {
     "name": "stdout",
     "output_type": "stream",
     "text": [
      "第98次迭代找到的次优解距离为：24.81769306884381，能量为：167.69884290634428，路径为：\n",
      "e,d,g,b,c,a,f,h,e\n",
      "第312次迭代找到的次优解距离为：18.556395895082645，能量为：287.6746612565932，路径为：\n",
      "e,f,d,g,b,a,c,h,e\n",
      "第1223次迭代找到的次优解距离为：16.974836860209646，能量为：443.3531894280594，路径为：\n",
      "f,d,b,c,h,a,g,e,f\n",
      "第2428次迭代找到的次优解距离为：15.764091950405117，能量为：247.35776586346293，路径为：\n",
      "d,a,b,h,c,g,e,f,d\n",
      "第3077次迭代找到的次优解距离为：15.246537600251445，能量为：267.86428925529253，路径为：\n",
      "d,a,b,c,h,g,e,f,d\n",
      "第5401次迭代找到的次优解距离为：14.084259940083067，能量为：254.90216337161274，路径为：\n",
      "a,c,h,g,e,d,f,b,a\n"
     ]
    },
    {
     "name": "stderr",
     "output_type": "stream",
     "text": [
      "<ipython-input-8-a47e4a10e982>:13: MatplotlibDeprecationWarning: The 's' parameter of annotate() has been renamed 'text' since Matplotlib 3.3; support for the old name will be dropped two minor releases later.\n",
      "  ax.annotate(s=chr(97 + to_), xy=citys[to_], xytext=(-8, -4), textcoords='offset points', fontsize=20)\n"
     ]
    },
    {
     "data": {
      "image/png": "[encoded data removed]",
      "text/plain": [
       "<Figure size 432x288 with 1 Axes>"
      ]
     },
     "metadata": {
      "needs_background": "light"
     },
     "output_type": "display_data"
    }
   ],
   "source": [
    "if __name__ == '__main__':\n",
    "    citys = np.array([[3, 5], [2, 6], [3, 3], [4, 6], [5, 5], [4, 7], [6, 4], [3, 2]])\n",
    "    distance = get_distance(citys)\n",
    "    N = len(citys)\n",
    "    \n",
    "    # 设置初始值\n",
    "    A = N * N\n",
    "    D = N / 2\n",
    "    U0 = 0.0009  # 初始电压\n",
    "    step = 0.0001  # 步长\n",
    "    num_iter = 10000  # 迭代次数\n",
    "    \n",
    "    # 初始化神经网络的输入状态（电路的输入电压U）\n",
    "    U = 1 / 2 * U0 * np.log(N - 1) + (2 * (np.random.random((N, N))) - 1)\n",
    "    # 初始化神经网络的输出状态（电路的输出电压V）\n",
    "    V = calc_V(U, U0)\n",
    "    energys = np.array([0.0 for x in range(num_iter)])  # 每次迭代的能量\n",
    "    best_distance = np.inf  # 最优距离\n",
    "    best_route = []  # 最优路线\n",
    "    H_path = []  # 哈密顿回路\n",
    "    \n",
    "    # 开始迭代训练网络\n",
    "    for n in range(num_iter):\n",
    "        du = calc_du(V, distance)\n",
    "        U = calc_U(U, du, step)\n",
    "        V = calc_V(U, U0)\n",
    "        energys[n] = calc_energy(V, distance)\n",
    "        route, newV = check_path(V)\n",
    "        \n",
    "        if len(np.unique(route)) == N:\n",
    "            route.append(route[0])\n",
    "            dis = calc_distance(route)\n",
    "            if dis < best_distance:\n",
    "                H_path = []\n",
    "                best_distance = dis\n",
    "                best_route = route\n",
    "                [H_path.append((route[i], route[i + 1])) for i in range(len(route) - 1)]\n",
    "                print('第{}次迭代找到的次优解距离为：{}，能量为：{}，路径为：'.format(n, best_distance, energys[n]))\n",
    "                [print(chr(97 + v), end=',' if i < len(best_route) - 1 else '\\n') for i, v in enumerate(best_route)]\n",
    "    if len(H_path) > 0:\n",
    "        draw(citys, H_path, energys)\n",
    "    else:\n",
    "        print('没有找到最优解')"
   ]
  },
  {
   "cell_type": "code",
   "execution_count": null,
   "id": "61dabf35",
   "metadata": {},
   "outputs": [],
   "source": []
  }
 ],
 "metadata": {
  "kernelspec": {
   "display_name": "Python 3",
   "language": "python",
   "name": "python3"
  },
  "language_info": {
   "codemirror_mode": {
    "name": "ipython",
    "version": 3
   },
   "file_extension": ".py",
   "mimetype": "text/x-python",
   "name": "python",
   "nbconvert_exporter": "python",
   "pygments_lexer": "ipython3",
   "version": "3.8.8"
  }
 },
 "nbformat": 4,
 "nbformat_minor": 5
}
